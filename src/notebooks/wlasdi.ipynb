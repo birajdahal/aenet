{
 "cells": [
  {
   "cell_type": "code",
   "execution_count": 3,
   "id": "d6d1cb75",
   "metadata": {},
   "outputs": [],
   "source": [
    "import numpy as np\n",
    "import scipy.io\n",
    "\n",
    "loaded = {}\n",
    "for dname in [\"bscale\", \"bshift\", \"tscale\", \"tshift\", \"kscale\", \"kshift\"]:\n",
    "  loaded[dname] = scipy.io.loadmat(f\"results_2025_09_05/weaksindy_{dname}512_latent4.mat\")"
   ]
  },
  {
   "cell_type": "code",
   "execution_count": null,
   "id": "7f25d529",
   "metadata": {},
   "outputs": [
    {
     "name": "stdout",
     "output_type": "stream",
     "text": [
      "bscale: (100, 301)\n",
      "bshift: (100, 301)\n",
      "tscale: (100, 301)\n",
      "tshift: (100, 301)\n",
      "kscale: (100, 301)\n",
      "kshift: (100, 301)\n"
     ]
    }
   ],
   "source": [
    "for x, y in loaded.items():\n",
    "  print(x, end=\": \")\n",
    "  print(y[\"operator_errors\"][t] for t in range(30, 301, 30))"
   ]
  }
 ],
 "metadata": {
  "kernelspec": {
   "display_name": "das",
   "language": "python",
   "name": "python3"
  },
  "language_info": {
   "codemirror_mode": {
    "name": "ipython",
    "version": 3
   },
   "file_extension": ".py",
   "mimetype": "text/x-python",
   "name": "python",
   "nbconvert_exporter": "python",
   "pygments_lexer": "ipython3",
   "version": "3.10.13"
  }
 },
 "nbformat": 4,
 "nbformat_minor": 5
}
