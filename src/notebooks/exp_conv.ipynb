{
 "cells": [
  {
   "cell_type": "markdown",
   "id": "278373aa",
   "metadata": {},
   "source": [
    "### Prerequisite for this script\n",
    "Just run them and move on to next section."
   ]
  },
  {
   "cell_type": "code",
   "execution_count": 1,
   "id": "477670ed",
   "metadata": {},
   "outputs": [],
   "source": [
    "import sys\n",
    "sys.path.insert(0, \"..\")\n",
    "basedir = \"../..\""
   ]
  },
  {
   "cell_type": "code",
   "execution_count": 6,
   "id": "a42c5e6a",
   "metadata": {},
   "outputs": [],
   "source": [
    "def trainer(dconfig, wconfig,  **kwargs):\n",
    "    is_training = kwargs.pop(\"is_training\", True)\n",
    "    from common.config import create_object, load_config\n",
    "    \n",
    "    dconfig = load_config(dconfig, [f\"datasize.spacedim=1\"])\n",
    "    dset = create_object(dconfig)\n",
    "    wconfig = load_config(wconfig)\n",
    "    experiment = create_object(wconfig)\n",
    "    reg_name = kwargs.pop(\"reg_name\", \"base\")\n",
    "    name = f\"{dset.name}{wconfig.aeclass}\"\n",
    "    k = wconfig.aeparams.encodeSeq[-1] if \"encodeSeq\" in wconfig.aeparams else wconfig.aeparams.sample.latents_dims\n",
    "    kwargs[\"td\"] = f\"{name}{reg_name}-{k}-{'auton' if  kwargs['autonomous'] else 'nonauton'}\"\n",
    "    weld = experiment.create_weld(dset, **kwargs)\n",
    "\n",
    "    baseepochs = kwargs.get(\"epochs\", 150)\n",
    "        \n",
    "    is_all_loaded = weld.load_all(name)\n",
    "    if is_training:\n",
    "        if not is_all_loaded and kwargs.get(\"windows\",1) > 1:\n",
    "            is_ae_prop_loaded = weld.load_aes_and_props(name,verbose=True)\n",
    "        else:\n",
    "            is_ae_prop_loaded = is_all_loaded\n",
    "\n",
    "        if not is_ae_prop_loaded:\n",
    "            if not weld.load_aes(name,verbose=True):\n",
    "                weld.train_aes(baseepochs, warmstart_epochs=baseepochs, printinterval=25, batch=16, save=True, plottb=False, lr=1e-4)\n",
    "            weld.train_propagators(baseepochs * 10, batch=32, printinterval=baseepochs, save=True, lr=1e-5)\n",
    "            \n",
    "        if not is_all_loaded and kwargs.get(\"windows\",1) > 1:\n",
    "            weld.train_transcoders(baseepochs * 10, batch=32, printinterval=baseepochs, save=True, lr=1e-5)\n",
    "    return weld\n",
    "\n",
    "def batch_trainer(dconfig:str, wconfig:str, **kwargs):\n",
    "    is_training = kwargs.pop(\"is_training\", True)\n",
    "    base_config = {\"reg_name\":\"base\", \"straightness\":0, \"kinetic\":0}\n",
    "    straight_config = {\"reg_name\":\"straight\", \"straightness\":0.1, \"kinetic\":0}\n",
    "    kinetic_config = {\"reg_name\":\"kinetic\", \"straightness\":0, \"kinetic\":10}\n",
    "    batched_welds = []\n",
    "    for autonomous in [True]: # autonomous = True,\n",
    "        for reg_config in [base_config]:#, straight_config, kinetic_config]:\n",
    "            welds = []\n",
    "            for windows in [1, 3, 10]:\n",
    "                kwargs = {\"windows\": windows,\n",
    "                          \"autonomous\": autonomous,\n",
    "                          **reg_config}\n",
    "                welds.append(trainer(dconfig, wconfig, is_training=is_training, **kwargs))\n",
    "            batched_welds.append(welds)\n",
    "    return batched_welds\n",
    "\n",
    "def plots(welds:list):\n",
    "    from models import WeldAnalyzer\n",
    "    import matplotlib.pyplot as plt\n",
    "    print(f\"We're now comparing the projection errors from {welds[0].td}\")\n",
    "    fig = WeldAnalyzer.compare_projerrs(welds)\n",
    "    fig.savefig(f\"{welds[0].td}_projerrs.png\")\n",
    "    plt.close(fig)\n",
    "    \n",
    "    print(f\"We're now comparing the propogation erros from {welds[0].td}\")\n",
    "    fig = WeldAnalyzer.compare_properrs(welds)\n",
    "    fig.savefig(f\"{welds[0].td}_properrs.png\")\n",
    "    plt.close(fig)\n",
    "    \n",
    "def tester(*args, **kwargs):\n",
    "    weld = trainer(*args, is_training=False, **kwargs)\n",
    "    plots([weld])\n",
    "    \n",
    "def batch_tester(*args, **kwargs):\n",
    "    batched_welds = batch_trainer(*args, is_training=False, **kwargs)\n",
    "    for welds in batched_welds:\n",
    "        plots(welds)\n",
    "\n"
   ]
  },
  {
   "cell_type": "markdown",
   "id": "9eac30f3",
   "metadata": {},
   "source": [
    "### WELDNET Training (& optional: Test) :\n",
    "\n",
    "*follow the following example to train our weldnet with preferable hyperparameters.*"
   ]
  },
  {
   "cell_type": "code",
   "execution_count": 8,
   "id": "66f48434",
   "metadata": {},
   "outputs": [],
   "source": [
    "from models import *\n",
    "\n",
    "#ConvAutoEncoder\n",
    "\n",
    "def configure_model_and_data():\n",
    "    # apply your prefered modification here\n",
    "    dconfig = \"../autoencoder/configs/data/burgers2dwidth.yaml\"\n",
    "    wconfig = \"../autoencoder/configs/experiments/weldconv.yaml\"\n",
    "    reg_config = {\"reg_name\":\"none\", \"straightness\":0, \"kinetic\":0} # change to None if no regularization\n",
    "    windows=1\n",
    "    autonomous=True\n",
    "    kwargs = {\"windows\": windows,\n",
    "              \"autonomous\": autonomous,\n",
    "              **reg_config}\n",
    "    \n",
    "    return dconfig, wconfig, kwargs"
   ]
  },
  {
   "cell_type": "markdown",
   "id": "84cb2ade",
   "metadata": {},
   "source": [
    "### Batched Training  (& optional: Test) ::\n",
    "\n",
    "*use \"batch_trainer\" with data and model configuration. Add \"aeclass\" keyword arguments for CNN and LSTM Autoencoder if necessary.*"
   ]
  },
  {
   "cell_type": "code",
   "execution_count": 10,
   "id": "47fa9e5a",
   "metadata": {},
   "outputs": [],
   "source": [
    "\n",
    "DCONFIGS = {\n",
    "    \"bshift\": \"../autoencoder/configs/data/burgersshift.yaml\",\n",
    "    \"bscale\": \"../autoencoder/configs/data/burgersscale.yaml\",\n",
    "    \"tscale\": \"../autoencoder/configs/data/hatsscale.yaml\",\n",
    "    \"tshift\": \"../autoencoder/configs/data/hatsshift.yaml\",\n",
    "    \"kscale\": \"../autoencoder/configs/data/KdVscale.yaml\",\n",
    "    \"kshift\": \"../autoencoder/configs/data/KdVshift.yaml\",\n",
    "    \"b2width\": \"../autoencoder/configs/data/burgers2dwidth.yaml\",\n",
    "    \"t2scale\": \"../autoencoder/configs/data/hats2dscale.yaml\"\n",
    "}\n",
    "WCONFIGS = {\n",
    "    \"weldff\": \"../autoencoder/configs/experiments/weldnormal.yaml\",\n",
    "    \"weldconv\": \"../autoencoder/configs/experiments/weldconv.yaml\",\n",
    "    \"weldconv_periodic\": \"../autoencoder/configs/experiments/weldconv_periodic.yaml\",\n",
    "    \"weldconv2d\": \"../autoencoder/configs/experiments/weldconv2d.yaml\"\n",
    "}\n",
    "def configure_model_and_data(dname, wname):\n",
    "    # apply your prefered modification here\n",
    "    return DCONFIGS[dname], WCONFIGS[wname]\n",
    "def get_all_data():\n",
    "    return DCONFIGS.keys()\n",
    "def get_periodic_bc_1d_data():\n",
    "    return [\"bshift\", \"bscale\"]\n",
    "def get_zero_bc_1d_data():\n",
    "    return [\"tscale\", \"tshift\", \"kscale\", \"kshift\"]\n",
    "def get_2d_data():\n",
    "    return [\"b2width\", \"t2scale\"]"
   ]
  },
  {
   "cell_type": "code",
   "execution_count": 11,
   "id": "794e5843",
   "metadata": {
    "scrolled": true
   },
   "outputs": [
    {
     "ename": "KeyboardInterrupt",
     "evalue": "",
     "output_type": "error",
     "traceback": [
      "\u001b[1;31m---------------------------------------------------------------------------\u001b[0m",
      "\u001b[1;31mKeyboardInterrupt\u001b[0m                         Traceback (most recent call last)",
      "\u001b[1;32m~\\AppData\\Local\\Temp/ipykernel_23716/2141036767.py\u001b[0m in \u001b[0;36m<module>\u001b[1;34m\u001b[0m\n\u001b[0;32m      1\u001b[0m \u001b[1;32mfor\u001b[0m \u001b[0mdname\u001b[0m \u001b[1;32min\u001b[0m \u001b[0mget_all_data\u001b[0m\u001b[1;33m(\u001b[0m\u001b[1;33m)\u001b[0m\u001b[1;33m:\u001b[0m\u001b[1;33m\u001b[0m\u001b[1;33m\u001b[0m\u001b[0m\n\u001b[0;32m      2\u001b[0m     \u001b[0mdconfig\u001b[0m\u001b[1;33m,\u001b[0m \u001b[0mwconfig\u001b[0m \u001b[1;33m=\u001b[0m \u001b[0mconfigure_model_and_data\u001b[0m\u001b[1;33m(\u001b[0m\u001b[0mdname\u001b[0m\u001b[1;33m,\u001b[0m \u001b[1;34m\"weldff\"\u001b[0m\u001b[1;33m)\u001b[0m\u001b[1;33m\u001b[0m\u001b[1;33m\u001b[0m\u001b[0m\n\u001b[1;32m----> 3\u001b[1;33m     \u001b[0mbatch_trainer\u001b[0m\u001b[1;33m(\u001b[0m\u001b[0mdconfig\u001b[0m\u001b[1;33m,\u001b[0m \u001b[0mwconfig\u001b[0m\u001b[1;33m)\u001b[0m\u001b[1;33m\u001b[0m\u001b[1;33m\u001b[0m\u001b[0m\n\u001b[0m\u001b[0;32m      4\u001b[0m     \u001b[0mbatch_tester\u001b[0m\u001b[1;33m(\u001b[0m\u001b[0mdconfig\u001b[0m\u001b[1;33m,\u001b[0m \u001b[0mwconfig\u001b[0m\u001b[1;33m)\u001b[0m\u001b[1;33m\u001b[0m\u001b[1;33m\u001b[0m\u001b[0m\n",
      "\u001b[1;32m~\\AppData\\Local\\Temp/ipykernel_23716/2661623838.py\u001b[0m in \u001b[0;36mbatch_trainer\u001b[1;34m(dconfig, wconfig, **kwargs)\u001b[0m\n\u001b[0;32m     44\u001b[0m                           \u001b[1;34m\"autonomous\"\u001b[0m\u001b[1;33m:\u001b[0m \u001b[0mautonomous\u001b[0m\u001b[1;33m,\u001b[0m\u001b[1;33m\u001b[0m\u001b[1;33m\u001b[0m\u001b[0m\n\u001b[0;32m     45\u001b[0m                           **reg_config}\n\u001b[1;32m---> 46\u001b[1;33m                 \u001b[0mwelds\u001b[0m\u001b[1;33m.\u001b[0m\u001b[0mappend\u001b[0m\u001b[1;33m(\u001b[0m\u001b[0mtrainer\u001b[0m\u001b[1;33m(\u001b[0m\u001b[0mdconfig\u001b[0m\u001b[1;33m,\u001b[0m \u001b[0mwconfig\u001b[0m\u001b[1;33m,\u001b[0m \u001b[0mis_training\u001b[0m\u001b[1;33m=\u001b[0m\u001b[0mis_training\u001b[0m\u001b[1;33m,\u001b[0m \u001b[1;33m**\u001b[0m\u001b[0mkwargs\u001b[0m\u001b[1;33m)\u001b[0m\u001b[1;33m)\u001b[0m\u001b[1;33m\u001b[0m\u001b[1;33m\u001b[0m\u001b[0m\n\u001b[0m\u001b[0;32m     47\u001b[0m             \u001b[0mbatched_welds\u001b[0m\u001b[1;33m.\u001b[0m\u001b[0mappend\u001b[0m\u001b[1;33m(\u001b[0m\u001b[0mwelds\u001b[0m\u001b[1;33m)\u001b[0m\u001b[1;33m\u001b[0m\u001b[1;33m\u001b[0m\u001b[0m\n\u001b[0;32m     48\u001b[0m     \u001b[1;32mreturn\u001b[0m \u001b[0mbatched_welds\u001b[0m\u001b[1;33m\u001b[0m\u001b[1;33m\u001b[0m\u001b[0m\n",
      "\u001b[1;32m~\\AppData\\Local\\Temp/ipykernel_23716/2661623838.py\u001b[0m in \u001b[0;36mtrainer\u001b[1;34m(dconfig, wconfig, **kwargs)\u001b[0m\n\u001b[0;32m      4\u001b[0m \u001b[1;33m\u001b[0m\u001b[0m\n\u001b[0;32m      5\u001b[0m     \u001b[0mdconfig\u001b[0m \u001b[1;33m=\u001b[0m \u001b[0mload_config\u001b[0m\u001b[1;33m(\u001b[0m\u001b[0mdconfig\u001b[0m\u001b[1;33m,\u001b[0m \u001b[1;33m[\u001b[0m\u001b[1;34mf\"datasize.spacedim=1\"\u001b[0m\u001b[1;33m]\u001b[0m\u001b[1;33m)\u001b[0m\u001b[1;33m\u001b[0m\u001b[1;33m\u001b[0m\u001b[0m\n\u001b[1;32m----> 6\u001b[1;33m     \u001b[0mdset\u001b[0m \u001b[1;33m=\u001b[0m \u001b[0mcreate_object\u001b[0m\u001b[1;33m(\u001b[0m\u001b[0mdconfig\u001b[0m\u001b[1;33m)\u001b[0m\u001b[1;33m\u001b[0m\u001b[1;33m\u001b[0m\u001b[0m\n\u001b[0m\u001b[0;32m      7\u001b[0m     \u001b[0mwconfig\u001b[0m \u001b[1;33m=\u001b[0m \u001b[0mload_config\u001b[0m\u001b[1;33m(\u001b[0m\u001b[0mwconfig\u001b[0m\u001b[1;33m)\u001b[0m\u001b[1;33m\u001b[0m\u001b[1;33m\u001b[0m\u001b[0m\n\u001b[0;32m      8\u001b[0m     \u001b[0mexperiment\u001b[0m \u001b[1;33m=\u001b[0m \u001b[0mcreate_object\u001b[0m\u001b[1;33m(\u001b[0m\u001b[0mwconfig\u001b[0m\u001b[1;33m)\u001b[0m\u001b[1;33m\u001b[0m\u001b[1;33m\u001b[0m\u001b[0m\n",
      "\u001b[1;32mc:\\Users\\Admin\\Documents\\aenet\\src\\notebooks\\..\\common\\config.py\u001b[0m in \u001b[0;36mcreate_object\u001b[1;34m(config)\u001b[0m\n\u001b[0;32m     70\u001b[0m     \u001b[0margs\u001b[0m \u001b[1;33m=\u001b[0m \u001b[0mconfig\u001b[0m\u001b[1;33m.\u001b[0m\u001b[0m__object__\u001b[0m\u001b[1;33m.\u001b[0m\u001b[0mget\u001b[0m\u001b[1;33m(\u001b[0m\u001b[1;34m\"args\"\u001b[0m\u001b[1;33m,\u001b[0m \u001b[1;34m\"as_config\"\u001b[0m\u001b[1;33m)\u001b[0m\u001b[1;33m\u001b[0m\u001b[1;33m\u001b[0m\u001b[0m\n\u001b[0;32m     71\u001b[0m     \u001b[1;32mif\u001b[0m \u001b[0margs\u001b[0m \u001b[1;33m==\u001b[0m \u001b[1;34m\"as_config\"\u001b[0m\u001b[1;33m:\u001b[0m\u001b[1;33m\u001b[0m\u001b[1;33m\u001b[0m\u001b[0m\n\u001b[1;32m---> 72\u001b[1;33m         \u001b[1;32mreturn\u001b[0m \u001b[0mitem\u001b[0m\u001b[1;33m(\u001b[0m\u001b[0mconfig\u001b[0m\u001b[1;33m)\u001b[0m\u001b[1;33m\u001b[0m\u001b[1;33m\u001b[0m\u001b[0m\n\u001b[0m\u001b[0;32m     73\u001b[0m     \u001b[1;32mif\u001b[0m \u001b[0margs\u001b[0m \u001b[1;33m==\u001b[0m \u001b[1;34m\"as_params\"\u001b[0m\u001b[1;33m:\u001b[0m\u001b[1;33m\u001b[0m\u001b[1;33m\u001b[0m\u001b[0m\n\u001b[0;32m     74\u001b[0m         \u001b[0mconfig\u001b[0m \u001b[1;33m=\u001b[0m \u001b[0mOmegaConf\u001b[0m\u001b[1;33m.\u001b[0m\u001b[0mto_object\u001b[0m\u001b[1;33m(\u001b[0m\u001b[0mconfig\u001b[0m\u001b[1;33m)\u001b[0m\u001b[1;33m\u001b[0m\u001b[1;33m\u001b[0m\u001b[0m\n",
      "\u001b[1;32mc:\\Users\\Admin\\Documents\\aenet\\src\\notebooks\\..\\utils.py\u001b[0m in \u001b[0;36m__init__\u001b[1;34m(self, inconfig, seed, spacedim)\u001b[0m\n\u001b[0;32m    140\u001b[0m       \u001b[1;32mwith\u001b[0m \u001b[0mwarnings\u001b[0m\u001b[1;33m.\u001b[0m\u001b[0mcatch_warnings\u001b[0m\u001b[1;33m(\u001b[0m\u001b[1;33m)\u001b[0m\u001b[1;33m:\u001b[0m\u001b[1;33m\u001b[0m\u001b[1;33m\u001b[0m\u001b[0m\n\u001b[0;32m    141\u001b[0m         \u001b[0mwarnings\u001b[0m\u001b[1;33m.\u001b[0m\u001b[0msimplefilter\u001b[0m\u001b[1;33m(\u001b[0m\u001b[1;34m'ignore'\u001b[0m\u001b[1;33m,\u001b[0m \u001b[0mMatReadWarning\u001b[0m\u001b[1;33m)\u001b[0m\u001b[1;33m\u001b[0m\u001b[1;33m\u001b[0m\u001b[0m\n\u001b[1;32m--> 142\u001b[1;33m         \u001b[0mself\u001b[0m\u001b[1;33m.\u001b[0m\u001b[0morigdata\u001b[0m \u001b[1;33m=\u001b[0m \u001b[0mscipy\u001b[0m\u001b[1;33m.\u001b[0m\u001b[0mio\u001b[0m\u001b[1;33m.\u001b[0m\u001b[0mloadmat\u001b[0m\u001b[1;33m(\u001b[0m\u001b[0minconfig\u001b[0m\u001b[1;33m.\u001b[0m\u001b[0mfile\u001b[0m\u001b[1;33m.\u001b[0m\u001b[0mfilestr\u001b[0m\u001b[1;33m)\u001b[0m\u001b[1;33m\u001b[0m\u001b[1;33m\u001b[0m\u001b[0m\n\u001b[0m\u001b[0;32m    143\u001b[0m \u001b[1;33m\u001b[0m\u001b[0m\n\u001b[0;32m    144\u001b[0m       \u001b[0mself\u001b[0m\u001b[1;33m.\u001b[0m\u001b[0mname\u001b[0m \u001b[1;33m=\u001b[0m \u001b[0minconfig\u001b[0m\u001b[1;33m.\u001b[0m\u001b[0mfile\u001b[0m\u001b[1;33m.\u001b[0m\u001b[0mname\u001b[0m\u001b[1;33m\u001b[0m\u001b[1;33m\u001b[0m\u001b[0m\n",
      "\u001b[1;32mc:\\Users\\Admin\\Anaconda3\\envs\\nn\\lib\\site-packages\\scipy\\io\\matlab\\_mio.py\u001b[0m in \u001b[0;36mloadmat\u001b[1;34m(file_name, mdict, appendmat, **kwargs)\u001b[0m\n\u001b[0;32m    225\u001b[0m     \u001b[1;32mwith\u001b[0m \u001b[0m_open_file_context\u001b[0m\u001b[1;33m(\u001b[0m\u001b[0mfile_name\u001b[0m\u001b[1;33m,\u001b[0m \u001b[0mappendmat\u001b[0m\u001b[1;33m)\u001b[0m \u001b[1;32mas\u001b[0m \u001b[0mf\u001b[0m\u001b[1;33m:\u001b[0m\u001b[1;33m\u001b[0m\u001b[1;33m\u001b[0m\u001b[0m\n\u001b[0;32m    226\u001b[0m         \u001b[0mMR\u001b[0m\u001b[1;33m,\u001b[0m \u001b[0m_\u001b[0m \u001b[1;33m=\u001b[0m \u001b[0mmat_reader_factory\u001b[0m\u001b[1;33m(\u001b[0m\u001b[0mf\u001b[0m\u001b[1;33m,\u001b[0m \u001b[1;33m**\u001b[0m\u001b[0mkwargs\u001b[0m\u001b[1;33m)\u001b[0m\u001b[1;33m\u001b[0m\u001b[1;33m\u001b[0m\u001b[0m\n\u001b[1;32m--> 227\u001b[1;33m         \u001b[0mmatfile_dict\u001b[0m \u001b[1;33m=\u001b[0m \u001b[0mMR\u001b[0m\u001b[1;33m.\u001b[0m\u001b[0mget_variables\u001b[0m\u001b[1;33m(\u001b[0m\u001b[0mvariable_names\u001b[0m\u001b[1;33m)\u001b[0m\u001b[1;33m\u001b[0m\u001b[1;33m\u001b[0m\u001b[0m\n\u001b[0m\u001b[0;32m    228\u001b[0m \u001b[1;33m\u001b[0m\u001b[0m\n\u001b[0;32m    229\u001b[0m     \u001b[1;32mif\u001b[0m \u001b[0mmdict\u001b[0m \u001b[1;32mis\u001b[0m \u001b[1;32mnot\u001b[0m \u001b[1;32mNone\u001b[0m\u001b[1;33m:\u001b[0m\u001b[1;33m\u001b[0m\u001b[1;33m\u001b[0m\u001b[0m\n",
      "\u001b[1;32mc:\\Users\\Admin\\Anaconda3\\envs\\nn\\lib\\site-packages\\scipy\\io\\matlab\\_mio5.py\u001b[0m in \u001b[0;36mget_variables\u001b[1;34m(self, variable_names)\u001b[0m\n\u001b[0;32m    330\u001b[0m                 \u001b[1;32mcontinue\u001b[0m\u001b[1;33m\u001b[0m\u001b[1;33m\u001b[0m\u001b[0m\n\u001b[0;32m    331\u001b[0m             \u001b[1;32mtry\u001b[0m\u001b[1;33m:\u001b[0m\u001b[1;33m\u001b[0m\u001b[1;33m\u001b[0m\u001b[0m\n\u001b[1;32m--> 332\u001b[1;33m                 \u001b[0mres\u001b[0m \u001b[1;33m=\u001b[0m \u001b[0mself\u001b[0m\u001b[1;33m.\u001b[0m\u001b[0mread_var_array\u001b[0m\u001b[1;33m(\u001b[0m\u001b[0mhdr\u001b[0m\u001b[1;33m,\u001b[0m \u001b[0mprocess\u001b[0m\u001b[1;33m)\u001b[0m\u001b[1;33m\u001b[0m\u001b[1;33m\u001b[0m\u001b[0m\n\u001b[0m\u001b[0;32m    333\u001b[0m             \u001b[1;32mexcept\u001b[0m \u001b[0mMatReadError\u001b[0m \u001b[1;32mas\u001b[0m \u001b[0merr\u001b[0m\u001b[1;33m:\u001b[0m\u001b[1;33m\u001b[0m\u001b[1;33m\u001b[0m\u001b[0m\n\u001b[0;32m    334\u001b[0m                 warnings.warn(\n",
      "\u001b[1;32mc:\\Users\\Admin\\Anaconda3\\envs\\nn\\lib\\site-packages\\scipy\\io\\matlab\\_mio5.py\u001b[0m in \u001b[0;36mread_var_array\u001b[1;34m(self, header, process)\u001b[0m\n\u001b[0;32m    290\u001b[0m            \u001b[0;31m`\u001b[0m\u001b[0mprocess\u001b[0m\u001b[0;31m`\u001b[0m\u001b[1;33m.\u001b[0m\u001b[1;33m\u001b[0m\u001b[1;33m\u001b[0m\u001b[0m\n\u001b[0;32m    291\u001b[0m         '''\n\u001b[1;32m--> 292\u001b[1;33m         \u001b[1;32mreturn\u001b[0m \u001b[0mself\u001b[0m\u001b[1;33m.\u001b[0m\u001b[0m_matrix_reader\u001b[0m\u001b[1;33m.\u001b[0m\u001b[0marray_from_header\u001b[0m\u001b[1;33m(\u001b[0m\u001b[0mheader\u001b[0m\u001b[1;33m,\u001b[0m \u001b[0mprocess\u001b[0m\u001b[1;33m)\u001b[0m\u001b[1;33m\u001b[0m\u001b[1;33m\u001b[0m\u001b[0m\n\u001b[0m\u001b[0;32m    293\u001b[0m \u001b[1;33m\u001b[0m\u001b[0m\n\u001b[0;32m    294\u001b[0m     \u001b[1;32mdef\u001b[0m \u001b[0mget_variables\u001b[0m\u001b[1;33m(\u001b[0m\u001b[0mself\u001b[0m\u001b[1;33m,\u001b[0m \u001b[0mvariable_names\u001b[0m\u001b[1;33m=\u001b[0m\u001b[1;32mNone\u001b[0m\u001b[1;33m)\u001b[0m\u001b[1;33m:\u001b[0m\u001b[1;33m\u001b[0m\u001b[1;33m\u001b[0m\u001b[0m\n",
      "\u001b[1;31mKeyboardInterrupt\u001b[0m: "
     ]
    }
   ],
   "source": [
    "for dname in get_all_data():\n",
    "    dconfig, wconfig = configure_model_and_data(dname, \"weldff\")\n",
    "    batch_trainer(dconfig, wconfig)\n",
    "    batch_tester(dconfig, wconfig)"
   ]
  },
  {
   "cell_type": "code",
   "execution_count": 13,
   "id": "700240ce",
   "metadata": {},
   "outputs": [
    {
     "name": "stdout",
     "output_type": "stream",
     "text": [
      "Propagator failed. Could not match with any files\n",
      "['savedmodels/weld/props\\\\bshiftConvAutoEncoder-4-auton1w-props-21-September-2024-22.11.pickle']\n",
      "Searching for [<class 'autoencoder.networks.ConvAutoEncoder'>, {'sample': {'spatial_resolution': 512, 'latents_dims': 4}, 'downblocks': {'channels': [8, 16, 32, 32, 32], 'kernel_stride_paddings': [[8, 2, 1], [8, 2, 1], [8, 2, 1], [4, 2, 1], [4, 2, 1]], 'actvn': 'relu', 'padding': 'circular'}, 'datadim': 1}, 1, 0, 0] [-1.0, (500, 51, 512)]\n",
      "NO MATCH [<class 'autoencoder.networks.ConvAutoEncoder'>, {'sample': {'spatial_resolution': 512, 'latents_dims': 4}, 'downblocks': {'channels': [16, 32, 64, 128], 'kernel_stride_paddings': [[8, 2, 1], [8, 2, 1], [4, 2, 1], [4, 2, 1]], 'actvn': 'relu', 'padding': 'circular'}, 'datadim': 1}, 1, 0, 0, (200, 200)] [-1.0, (500, 51, 512)]\n",
      "Load failed. Could not match with any files\n",
      "['savedmodels/weld\\\\bshiftConvAutoEncoder-4-auton1w-21-September-2024-22.11.pickle']\n",
      "Training 1 WeldNet AEs\n",
      "Tensorboard writer location is ./tensorboard/24-September-2024/bshiftConvAutoEncoderbase-4-auton-weld0/22.48.49/\n",
      "Number of NN trainable parameters 524085\n",
      "Starting training WeldNet AE 1/1 (0->50) at Tue Sep 24 22:48:49 2024...\n",
      "train torch.Size([400, 51, 512]) test (100, 51, 512)\n",
      "(100, 26112)\n",
      "1: Train Loss 6.412e+00, Relative AE Error (1, 2, inf): 1.112049, 1.258191, 1.424511\n",
      "(100, 26112)\n",
      "26: Train Loss 2.252e-01, Relative AE Error (1, 2, inf): 0.202894, 0.246140, 0.863470\n"
     ]
    },
    {
     "ename": "KeyboardInterrupt",
     "evalue": "",
     "output_type": "error",
     "traceback": [
      "\u001b[1;31m---------------------------------------------------------------------------\u001b[0m",
      "\u001b[1;31mKeyboardInterrupt\u001b[0m                         Traceback (most recent call last)",
      "\u001b[1;32m~\\AppData\\Local\\Temp/ipykernel_23716/673636542.py\u001b[0m in \u001b[0;36m<module>\u001b[1;34m\u001b[0m\n\u001b[0;32m      1\u001b[0m \u001b[1;32mfor\u001b[0m \u001b[0mdname\u001b[0m \u001b[1;32min\u001b[0m \u001b[0mget_periodic_bc_1d_data\u001b[0m\u001b[1;33m(\u001b[0m\u001b[1;33m)\u001b[0m\u001b[1;33m:\u001b[0m\u001b[1;33m\u001b[0m\u001b[1;33m\u001b[0m\u001b[0m\n\u001b[0;32m      2\u001b[0m     \u001b[0mdconfig\u001b[0m\u001b[1;33m,\u001b[0m \u001b[0mwconfig\u001b[0m \u001b[1;33m=\u001b[0m \u001b[0mconfigure_model_and_data\u001b[0m\u001b[1;33m(\u001b[0m\u001b[0mdname\u001b[0m\u001b[1;33m,\u001b[0m \u001b[1;34m\"weldconv_periodic\"\u001b[0m\u001b[1;33m)\u001b[0m\u001b[1;33m\u001b[0m\u001b[1;33m\u001b[0m\u001b[0m\n\u001b[1;32m----> 3\u001b[1;33m     \u001b[0mbatch_trainer\u001b[0m\u001b[1;33m(\u001b[0m\u001b[0mdconfig\u001b[0m\u001b[1;33m,\u001b[0m \u001b[0mwconfig\u001b[0m\u001b[1;33m)\u001b[0m\u001b[1;33m\u001b[0m\u001b[1;33m\u001b[0m\u001b[0m\n\u001b[0m\u001b[0;32m      4\u001b[0m     \u001b[0mbatch_tester\u001b[0m\u001b[1;33m(\u001b[0m\u001b[0mdconfig\u001b[0m\u001b[1;33m,\u001b[0m \u001b[0mwconfig\u001b[0m\u001b[1;33m)\u001b[0m\u001b[1;33m\u001b[0m\u001b[1;33m\u001b[0m\u001b[0m\n",
      "\u001b[1;32m~\\AppData\\Local\\Temp/ipykernel_23716/2661623838.py\u001b[0m in \u001b[0;36mbatch_trainer\u001b[1;34m(dconfig, wconfig, **kwargs)\u001b[0m\n\u001b[0;32m     44\u001b[0m                           \u001b[1;34m\"autonomous\"\u001b[0m\u001b[1;33m:\u001b[0m \u001b[0mautonomous\u001b[0m\u001b[1;33m,\u001b[0m\u001b[1;33m\u001b[0m\u001b[1;33m\u001b[0m\u001b[0m\n\u001b[0;32m     45\u001b[0m                           **reg_config}\n\u001b[1;32m---> 46\u001b[1;33m                 \u001b[0mwelds\u001b[0m\u001b[1;33m.\u001b[0m\u001b[0mappend\u001b[0m\u001b[1;33m(\u001b[0m\u001b[0mtrainer\u001b[0m\u001b[1;33m(\u001b[0m\u001b[0mdconfig\u001b[0m\u001b[1;33m,\u001b[0m \u001b[0mwconfig\u001b[0m\u001b[1;33m,\u001b[0m \u001b[0mis_training\u001b[0m\u001b[1;33m=\u001b[0m\u001b[0mis_training\u001b[0m\u001b[1;33m,\u001b[0m \u001b[1;33m**\u001b[0m\u001b[0mkwargs\u001b[0m\u001b[1;33m)\u001b[0m\u001b[1;33m)\u001b[0m\u001b[1;33m\u001b[0m\u001b[1;33m\u001b[0m\u001b[0m\n\u001b[0m\u001b[0;32m     47\u001b[0m             \u001b[0mbatched_welds\u001b[0m\u001b[1;33m.\u001b[0m\u001b[0mappend\u001b[0m\u001b[1;33m(\u001b[0m\u001b[0mwelds\u001b[0m\u001b[1;33m)\u001b[0m\u001b[1;33m\u001b[0m\u001b[1;33m\u001b[0m\u001b[0m\n\u001b[0;32m     48\u001b[0m     \u001b[1;32mreturn\u001b[0m \u001b[0mbatched_welds\u001b[0m\u001b[1;33m\u001b[0m\u001b[1;33m\u001b[0m\u001b[0m\n",
      "\u001b[1;32m~\\AppData\\Local\\Temp/ipykernel_23716/2661623838.py\u001b[0m in \u001b[0;36mtrainer\u001b[1;34m(dconfig, wconfig, **kwargs)\u001b[0m\n\u001b[0;32m     24\u001b[0m         \u001b[1;32mif\u001b[0m \u001b[1;32mnot\u001b[0m \u001b[0mis_ae_prop_loaded\u001b[0m\u001b[1;33m:\u001b[0m\u001b[1;33m\u001b[0m\u001b[1;33m\u001b[0m\u001b[0m\n\u001b[0;32m     25\u001b[0m             \u001b[1;32mif\u001b[0m \u001b[1;32mnot\u001b[0m \u001b[0mweld\u001b[0m\u001b[1;33m.\u001b[0m\u001b[0mload_aes\u001b[0m\u001b[1;33m(\u001b[0m\u001b[0mname\u001b[0m\u001b[1;33m,\u001b[0m\u001b[0mverbose\u001b[0m\u001b[1;33m=\u001b[0m\u001b[1;32mTrue\u001b[0m\u001b[1;33m)\u001b[0m\u001b[1;33m:\u001b[0m\u001b[1;33m\u001b[0m\u001b[1;33m\u001b[0m\u001b[0m\n\u001b[1;32m---> 26\u001b[1;33m                 \u001b[0mweld\u001b[0m\u001b[1;33m.\u001b[0m\u001b[0mtrain_aes\u001b[0m\u001b[1;33m(\u001b[0m\u001b[0mbaseepochs\u001b[0m\u001b[1;33m,\u001b[0m \u001b[0mwarmstart_epochs\u001b[0m\u001b[1;33m=\u001b[0m\u001b[0mbaseepochs\u001b[0m\u001b[1;33m,\u001b[0m \u001b[0mprintinterval\u001b[0m\u001b[1;33m=\u001b[0m\u001b[1;36m25\u001b[0m\u001b[1;33m,\u001b[0m \u001b[0mbatch\u001b[0m\u001b[1;33m=\u001b[0m\u001b[1;36m16\u001b[0m\u001b[1;33m,\u001b[0m \u001b[0msave\u001b[0m\u001b[1;33m=\u001b[0m\u001b[1;32mTrue\u001b[0m\u001b[1;33m,\u001b[0m \u001b[0mplottb\u001b[0m\u001b[1;33m=\u001b[0m\u001b[1;32mFalse\u001b[0m\u001b[1;33m,\u001b[0m \u001b[0mlr\u001b[0m\u001b[1;33m=\u001b[0m\u001b[1;36m1e-4\u001b[0m\u001b[1;33m)\u001b[0m\u001b[1;33m\u001b[0m\u001b[1;33m\u001b[0m\u001b[0m\n\u001b[0m\u001b[0;32m     27\u001b[0m             \u001b[0mweld\u001b[0m\u001b[1;33m.\u001b[0m\u001b[0mtrain_propagators\u001b[0m\u001b[1;33m(\u001b[0m\u001b[0mbaseepochs\u001b[0m \u001b[1;33m*\u001b[0m \u001b[1;36m10\u001b[0m\u001b[1;33m,\u001b[0m \u001b[0mbatch\u001b[0m\u001b[1;33m=\u001b[0m\u001b[1;36m32\u001b[0m\u001b[1;33m,\u001b[0m \u001b[0mprintinterval\u001b[0m\u001b[1;33m=\u001b[0m\u001b[0mbaseepochs\u001b[0m\u001b[1;33m,\u001b[0m \u001b[0msave\u001b[0m\u001b[1;33m=\u001b[0m\u001b[1;32mTrue\u001b[0m\u001b[1;33m,\u001b[0m \u001b[0mlr\u001b[0m\u001b[1;33m=\u001b[0m\u001b[1;36m1e-5\u001b[0m\u001b[1;33m)\u001b[0m\u001b[1;33m\u001b[0m\u001b[1;33m\u001b[0m\u001b[0m\n\u001b[0;32m     28\u001b[0m \u001b[1;33m\u001b[0m\u001b[0m\n",
      "\u001b[1;32mc:\\Users\\Admin\\Documents\\aenet\\src\\notebooks\\..\\models.py\u001b[0m in \u001b[0;36mtrain_aes\u001b[1;34m(self, epochs_first, warmstart_epochs, save, optim, lr, plottb, printinterval, batch, ridge, loss, encoding_param, best, verbose)\u001b[0m\n\u001b[0;32m    611\u001b[0m       \u001b[0mself\u001b[0m\u001b[1;33m.\u001b[0m\u001b[0maestep\u001b[0m \u001b[1;33m=\u001b[0m \u001b[1;36m0\u001b[0m\u001b[1;33m\u001b[0m\u001b[1;33m\u001b[0m\u001b[0m\n\u001b[0;32m    612\u001b[0m       \u001b[1;32mfor\u001b[0m \u001b[0mep\u001b[0m \u001b[1;32min\u001b[0m \u001b[0mrange\u001b[0m\u001b[1;33m(\u001b[0m\u001b[0mepochs\u001b[0m\u001b[1;33m)\u001b[0m\u001b[1;33m:\u001b[0m\u001b[1;33m\u001b[0m\u001b[1;33m\u001b[0m\u001b[0m\n\u001b[1;32m--> 613\u001b[1;33m           \u001b[0mlossesN\u001b[0m\u001b[1;33m,\u001b[0m \u001b[0mtesterrors1N\u001b[0m\u001b[1;33m,\u001b[0m \u001b[0mtesterrors2N\u001b[0m\u001b[1;33m,\u001b[0m \u001b[0mtesterrorsinfN\u001b[0m \u001b[1;33m=\u001b[0m \u001b[0mae_epoch\u001b[0m\u001b[1;33m(\u001b[0m\u001b[0mae\u001b[0m\u001b[1;33m,\u001b[0m \u001b[0mdataloader\u001b[0m\u001b[1;33m,\u001b[0m \u001b[0moptimizer\u001b[0m\u001b[1;33m=\u001b[0m\u001b[0mopt\u001b[0m\u001b[1;33m,\u001b[0m \u001b[0mwriter\u001b[0m\u001b[1;33m=\u001b[0m\u001b[0mwriter\u001b[0m\u001b[1;33m,\u001b[0m \u001b[0mep\u001b[0m\u001b[1;33m=\u001b[0m\u001b[0mep\u001b[0m\u001b[1;33m,\u001b[0m \u001b[0mprintinterval\u001b[0m\u001b[1;33m=\u001b[0m\u001b[0mprintinterval\u001b[0m\u001b[1;33m,\u001b[0m \u001b[0mloss\u001b[0m\u001b[1;33m=\u001b[0m\u001b[0mloss\u001b[0m\u001b[1;33m,\u001b[0m \u001b[0mtestarr\u001b[0m\u001b[1;33m=\u001b[0m\u001b[0mself\u001b[0m\u001b[1;33m.\u001b[0m\u001b[0mtests\u001b[0m\u001b[1;33m[\u001b[0m\u001b[0mw\u001b[0m\u001b[1;33m]\u001b[0m\u001b[1;33m)\u001b[0m\u001b[1;33m\u001b[0m\u001b[1;33m\u001b[0m\u001b[0m\n\u001b[0m\u001b[0;32m    614\u001b[0m           \u001b[0mlosses\u001b[0m \u001b[1;33m+=\u001b[0m \u001b[0mlossesN\u001b[0m\u001b[1;33m;\u001b[0m \u001b[0mtesterrors1\u001b[0m \u001b[1;33m+=\u001b[0m \u001b[0mtesterrors1N\u001b[0m\u001b[1;33m;\u001b[0m \u001b[0mtesterrors2\u001b[0m \u001b[1;33m+=\u001b[0m \u001b[0mtesterrors2N\u001b[0m\u001b[1;33m;\u001b[0m \u001b[0mtesterrorsinf\u001b[0m \u001b[1;33m+=\u001b[0m \u001b[0mtesterrorsinfN\u001b[0m\u001b[1;33m\u001b[0m\u001b[1;33m\u001b[0m\u001b[0m\n\u001b[0;32m    615\u001b[0m \u001b[1;33m\u001b[0m\u001b[0m\n",
      "\u001b[1;32mc:\\Users\\Admin\\Documents\\aenet\\src\\notebooks\\..\\models.py\u001b[0m in \u001b[0;36mae_epoch\u001b[1;34m(model, dataloader, writer, optimizer, ep, printinterval, loss, testarr)\u001b[0m\n\u001b[0;32m    543\u001b[0m       \u001b[1;32mfor\u001b[0m \u001b[0mbatch\u001b[0m \u001b[1;32min\u001b[0m \u001b[0mdataloader\u001b[0m\u001b[1;33m:\u001b[0m\u001b[1;33m\u001b[0m\u001b[1;33m\u001b[0m\u001b[0m\n\u001b[0;32m    544\u001b[0m         \u001b[0mself\u001b[0m\u001b[1;33m.\u001b[0m\u001b[0maestep\u001b[0m \u001b[1;33m+=\u001b[0m \u001b[1;36m1\u001b[0m\u001b[1;33m\u001b[0m\u001b[1;33m\u001b[0m\u001b[0m\n\u001b[1;32m--> 545\u001b[1;33m         \u001b[0merror\u001b[0m \u001b[1;33m=\u001b[0m \u001b[0moptimizer\u001b[0m\u001b[1;33m.\u001b[0m\u001b[0mstep\u001b[0m\u001b[1;33m(\u001b[0m\u001b[1;32mlambda\u001b[0m\u001b[1;33m:\u001b[0m \u001b[0mclosure\u001b[0m\u001b[1;33m(\u001b[0m\u001b[0mbatch\u001b[0m\u001b[1;33m)\u001b[0m\u001b[1;33m)\u001b[0m\u001b[1;33m\u001b[0m\u001b[1;33m\u001b[0m\u001b[0m\n\u001b[0m\u001b[0;32m    546\u001b[0m         \u001b[0mlosses\u001b[0m\u001b[1;33m.\u001b[0m\u001b[0mappend\u001b[0m\u001b[1;33m(\u001b[0m\u001b[0mfloat\u001b[0m\u001b[1;33m(\u001b[0m\u001b[0merror\u001b[0m\u001b[1;33m.\u001b[0m\u001b[0mcpu\u001b[0m\u001b[1;33m(\u001b[0m\u001b[1;33m)\u001b[0m\u001b[1;33m.\u001b[0m\u001b[0mdetach\u001b[0m\u001b[1;33m(\u001b[0m\u001b[1;33m)\u001b[0m\u001b[1;33m)\u001b[0m\u001b[1;33m)\u001b[0m\u001b[1;33m\u001b[0m\u001b[1;33m\u001b[0m\u001b[0m\n\u001b[0;32m    547\u001b[0m \u001b[1;33m\u001b[0m\u001b[0m\n",
      "\u001b[1;32mc:\\Users\\Admin\\Anaconda3\\envs\\nn\\lib\\site-packages\\torch\\optim\\optimizer.py\u001b[0m in \u001b[0;36mwrapper\u001b[1;34m(*args, **kwargs)\u001b[0m\n\u001b[0;32m    389\u001b[0m                             )\n\u001b[0;32m    390\u001b[0m \u001b[1;33m\u001b[0m\u001b[0m\n\u001b[1;32m--> 391\u001b[1;33m                 \u001b[0mout\u001b[0m \u001b[1;33m=\u001b[0m \u001b[0mfunc\u001b[0m\u001b[1;33m(\u001b[0m\u001b[1;33m*\u001b[0m\u001b[0margs\u001b[0m\u001b[1;33m,\u001b[0m \u001b[1;33m**\u001b[0m\u001b[0mkwargs\u001b[0m\u001b[1;33m)\u001b[0m\u001b[1;33m\u001b[0m\u001b[1;33m\u001b[0m\u001b[0m\n\u001b[0m\u001b[0;32m    392\u001b[0m                 \u001b[0mself\u001b[0m\u001b[1;33m.\u001b[0m\u001b[0m_optimizer_step_code\u001b[0m\u001b[1;33m(\u001b[0m\u001b[1;33m)\u001b[0m\u001b[1;33m\u001b[0m\u001b[1;33m\u001b[0m\u001b[0m\n\u001b[0;32m    393\u001b[0m \u001b[1;33m\u001b[0m\u001b[0m\n",
      "\u001b[1;32mc:\\Users\\Admin\\Anaconda3\\envs\\nn\\lib\\site-packages\\torch\\optim\\optimizer.py\u001b[0m in \u001b[0;36m_use_grad\u001b[1;34m(self, *args, **kwargs)\u001b[0m\n\u001b[0;32m     74\u001b[0m             \u001b[0mtorch\u001b[0m\u001b[1;33m.\u001b[0m\u001b[0mset_grad_enabled\u001b[0m\u001b[1;33m(\u001b[0m\u001b[0mself\u001b[0m\u001b[1;33m.\u001b[0m\u001b[0mdefaults\u001b[0m\u001b[1;33m[\u001b[0m\u001b[1;34m'differentiable'\u001b[0m\u001b[1;33m]\u001b[0m\u001b[1;33m)\u001b[0m\u001b[1;33m\u001b[0m\u001b[1;33m\u001b[0m\u001b[0m\n\u001b[0;32m     75\u001b[0m             \u001b[0mtorch\u001b[0m\u001b[1;33m.\u001b[0m\u001b[0m_dynamo\u001b[0m\u001b[1;33m.\u001b[0m\u001b[0mgraph_break\u001b[0m\u001b[1;33m(\u001b[0m\u001b[1;33m)\u001b[0m\u001b[1;33m\u001b[0m\u001b[1;33m\u001b[0m\u001b[0m\n\u001b[1;32m---> 76\u001b[1;33m             \u001b[0mret\u001b[0m \u001b[1;33m=\u001b[0m \u001b[0mfunc\u001b[0m\u001b[1;33m(\u001b[0m\u001b[0mself\u001b[0m\u001b[1;33m,\u001b[0m \u001b[1;33m*\u001b[0m\u001b[0margs\u001b[0m\u001b[1;33m,\u001b[0m \u001b[1;33m**\u001b[0m\u001b[0mkwargs\u001b[0m\u001b[1;33m)\u001b[0m\u001b[1;33m\u001b[0m\u001b[1;33m\u001b[0m\u001b[0m\n\u001b[0m\u001b[0;32m     77\u001b[0m         \u001b[1;32mfinally\u001b[0m\u001b[1;33m:\u001b[0m\u001b[1;33m\u001b[0m\u001b[1;33m\u001b[0m\u001b[0m\n\u001b[0;32m     78\u001b[0m             \u001b[0mtorch\u001b[0m\u001b[1;33m.\u001b[0m\u001b[0m_dynamo\u001b[0m\u001b[1;33m.\u001b[0m\u001b[0mgraph_break\u001b[0m\u001b[1;33m(\u001b[0m\u001b[1;33m)\u001b[0m\u001b[1;33m\u001b[0m\u001b[1;33m\u001b[0m\u001b[0m\n",
      "\u001b[1;32mc:\\Users\\Admin\\Anaconda3\\envs\\nn\\lib\\site-packages\\torch\\optim\\adamw.py\u001b[0m in \u001b[0;36mstep\u001b[1;34m(self, closure)\u001b[0m\n\u001b[0;32m    163\u001b[0m         \u001b[1;32mif\u001b[0m \u001b[0mclosure\u001b[0m \u001b[1;32mis\u001b[0m \u001b[1;32mnot\u001b[0m \u001b[1;32mNone\u001b[0m\u001b[1;33m:\u001b[0m\u001b[1;33m\u001b[0m\u001b[1;33m\u001b[0m\u001b[0m\n\u001b[0;32m    164\u001b[0m             \u001b[1;32mwith\u001b[0m \u001b[0mtorch\u001b[0m\u001b[1;33m.\u001b[0m\u001b[0menable_grad\u001b[0m\u001b[1;33m(\u001b[0m\u001b[1;33m)\u001b[0m\u001b[1;33m:\u001b[0m\u001b[1;33m\u001b[0m\u001b[1;33m\u001b[0m\u001b[0m\n\u001b[1;32m--> 165\u001b[1;33m                 \u001b[0mloss\u001b[0m \u001b[1;33m=\u001b[0m \u001b[0mclosure\u001b[0m\u001b[1;33m(\u001b[0m\u001b[1;33m)\u001b[0m\u001b[1;33m\u001b[0m\u001b[1;33m\u001b[0m\u001b[0m\n\u001b[0m\u001b[0;32m    166\u001b[0m \u001b[1;33m\u001b[0m\u001b[0m\n\u001b[0;32m    167\u001b[0m         \u001b[1;32mfor\u001b[0m \u001b[0mgroup\u001b[0m \u001b[1;32min\u001b[0m \u001b[0mself\u001b[0m\u001b[1;33m.\u001b[0m\u001b[0mparam_groups\u001b[0m\u001b[1;33m:\u001b[0m\u001b[1;33m\u001b[0m\u001b[1;33m\u001b[0m\u001b[0m\n",
      "\u001b[1;32mc:\\Users\\Admin\\Documents\\aenet\\src\\notebooks\\..\\models.py\u001b[0m in \u001b[0;36m<lambda>\u001b[1;34m()\u001b[0m\n\u001b[0;32m    543\u001b[0m       \u001b[1;32mfor\u001b[0m \u001b[0mbatch\u001b[0m \u001b[1;32min\u001b[0m \u001b[0mdataloader\u001b[0m\u001b[1;33m:\u001b[0m\u001b[1;33m\u001b[0m\u001b[1;33m\u001b[0m\u001b[0m\n\u001b[0;32m    544\u001b[0m         \u001b[0mself\u001b[0m\u001b[1;33m.\u001b[0m\u001b[0maestep\u001b[0m \u001b[1;33m+=\u001b[0m \u001b[1;36m1\u001b[0m\u001b[1;33m\u001b[0m\u001b[1;33m\u001b[0m\u001b[0m\n\u001b[1;32m--> 545\u001b[1;33m         \u001b[0merror\u001b[0m \u001b[1;33m=\u001b[0m \u001b[0moptimizer\u001b[0m\u001b[1;33m.\u001b[0m\u001b[0mstep\u001b[0m\u001b[1;33m(\u001b[0m\u001b[1;32mlambda\u001b[0m\u001b[1;33m:\u001b[0m \u001b[0mclosure\u001b[0m\u001b[1;33m(\u001b[0m\u001b[0mbatch\u001b[0m\u001b[1;33m)\u001b[0m\u001b[1;33m)\u001b[0m\u001b[1;33m\u001b[0m\u001b[1;33m\u001b[0m\u001b[0m\n\u001b[0m\u001b[0;32m    546\u001b[0m         \u001b[0mlosses\u001b[0m\u001b[1;33m.\u001b[0m\u001b[0mappend\u001b[0m\u001b[1;33m(\u001b[0m\u001b[0mfloat\u001b[0m\u001b[1;33m(\u001b[0m\u001b[0merror\u001b[0m\u001b[1;33m.\u001b[0m\u001b[0mcpu\u001b[0m\u001b[1;33m(\u001b[0m\u001b[1;33m)\u001b[0m\u001b[1;33m.\u001b[0m\u001b[0mdetach\u001b[0m\u001b[1;33m(\u001b[0m\u001b[1;33m)\u001b[0m\u001b[1;33m)\u001b[0m\u001b[1;33m)\u001b[0m\u001b[1;33m\u001b[0m\u001b[1;33m\u001b[0m\u001b[0m\n\u001b[0;32m    547\u001b[0m \u001b[1;33m\u001b[0m\u001b[0m\n",
      "\u001b[1;32mc:\\Users\\Admin\\Documents\\aenet\\src\\notebooks\\..\\models.py\u001b[0m in \u001b[0;36mclosure\u001b[1;34m(batch)\u001b[0m\n\u001b[0;32m    533\u001b[0m \u001b[1;33m\u001b[0m\u001b[0m\n\u001b[0;32m    534\u001b[0m         \u001b[0mtotal\u001b[0m \u001b[1;33m+=\u001b[0m \u001b[0mpenalties\u001b[0m\u001b[1;33m\u001b[0m\u001b[1;33m\u001b[0m\u001b[0m\n\u001b[1;32m--> 535\u001b[1;33m         \u001b[0mtotal\u001b[0m\u001b[1;33m.\u001b[0m\u001b[0mbackward\u001b[0m\u001b[1;33m(\u001b[0m\u001b[1;33m)\u001b[0m\u001b[1;33m\u001b[0m\u001b[1;33m\u001b[0m\u001b[0m\n\u001b[0m\u001b[0;32m    536\u001b[0m \u001b[1;33m\u001b[0m\u001b[0m\n\u001b[0;32m    537\u001b[0m         \u001b[1;32mif\u001b[0m \u001b[0mwriter\u001b[0m \u001b[1;32mis\u001b[0m \u001b[1;32mnot\u001b[0m \u001b[1;32mNone\u001b[0m \u001b[1;32mand\u001b[0m \u001b[0mself\u001b[0m\u001b[1;33m.\u001b[0m\u001b[0maestep\u001b[0m \u001b[1;33m%\u001b[0m \u001b[1;36m5\u001b[0m\u001b[1;33m:\u001b[0m\u001b[1;33m\u001b[0m\u001b[1;33m\u001b[0m\u001b[0m\n",
      "\u001b[1;32mc:\\Users\\Admin\\Anaconda3\\envs\\nn\\lib\\site-packages\\torch\\_tensor.py\u001b[0m in \u001b[0;36mbackward\u001b[1;34m(self, gradient, retain_graph, create_graph, inputs)\u001b[0m\n\u001b[0;32m    523\u001b[0m                 \u001b[0minputs\u001b[0m\u001b[1;33m=\u001b[0m\u001b[0minputs\u001b[0m\u001b[1;33m,\u001b[0m\u001b[1;33m\u001b[0m\u001b[1;33m\u001b[0m\u001b[0m\n\u001b[0;32m    524\u001b[0m             )\n\u001b[1;32m--> 525\u001b[1;33m         torch.autograd.backward(\n\u001b[0m\u001b[0;32m    526\u001b[0m             \u001b[0mself\u001b[0m\u001b[1;33m,\u001b[0m \u001b[0mgradient\u001b[0m\u001b[1;33m,\u001b[0m \u001b[0mretain_graph\u001b[0m\u001b[1;33m,\u001b[0m \u001b[0mcreate_graph\u001b[0m\u001b[1;33m,\u001b[0m \u001b[0minputs\u001b[0m\u001b[1;33m=\u001b[0m\u001b[0minputs\u001b[0m\u001b[1;33m\u001b[0m\u001b[1;33m\u001b[0m\u001b[0m\n\u001b[0;32m    527\u001b[0m         )\n",
      "\u001b[1;32mc:\\Users\\Admin\\Anaconda3\\envs\\nn\\lib\\site-packages\\torch\\autograd\\__init__.py\u001b[0m in \u001b[0;36mbackward\u001b[1;34m(tensors, grad_tensors, retain_graph, create_graph, grad_variables, inputs)\u001b[0m\n\u001b[0;32m    265\u001b[0m     \u001b[1;31m# some Python versions print out the first line of a multi-line function\u001b[0m\u001b[1;33m\u001b[0m\u001b[1;33m\u001b[0m\u001b[1;33m\u001b[0m\u001b[0m\n\u001b[0;32m    266\u001b[0m     \u001b[1;31m# calls in the traceback and some print out the last line\u001b[0m\u001b[1;33m\u001b[0m\u001b[1;33m\u001b[0m\u001b[1;33m\u001b[0m\u001b[0m\n\u001b[1;32m--> 267\u001b[1;33m     _engine_run_backward(\n\u001b[0m\u001b[0;32m    268\u001b[0m         \u001b[0mtensors\u001b[0m\u001b[1;33m,\u001b[0m\u001b[1;33m\u001b[0m\u001b[1;33m\u001b[0m\u001b[0m\n\u001b[0;32m    269\u001b[0m         \u001b[0mgrad_tensors_\u001b[0m\u001b[1;33m,\u001b[0m\u001b[1;33m\u001b[0m\u001b[1;33m\u001b[0m\u001b[0m\n",
      "\u001b[1;32mc:\\Users\\Admin\\Anaconda3\\envs\\nn\\lib\\site-packages\\torch\\autograd\\graph.py\u001b[0m in \u001b[0;36m_engine_run_backward\u001b[1;34m(t_outputs, *args, **kwargs)\u001b[0m\n\u001b[0;32m    742\u001b[0m         \u001b[0munregister_hooks\u001b[0m \u001b[1;33m=\u001b[0m \u001b[0m_register_logging_hooks_on_whole_graph\u001b[0m\u001b[1;33m(\u001b[0m\u001b[0mt_outputs\u001b[0m\u001b[1;33m)\u001b[0m\u001b[1;33m\u001b[0m\u001b[1;33m\u001b[0m\u001b[0m\n\u001b[0;32m    743\u001b[0m     \u001b[1;32mtry\u001b[0m\u001b[1;33m:\u001b[0m\u001b[1;33m\u001b[0m\u001b[1;33m\u001b[0m\u001b[0m\n\u001b[1;32m--> 744\u001b[1;33m         return Variable._execution_engine.run_backward(  # Calls into the C++ engine to run the backward pass\n\u001b[0m\u001b[0;32m    745\u001b[0m             \u001b[0mt_outputs\u001b[0m\u001b[1;33m,\u001b[0m \u001b[1;33m*\u001b[0m\u001b[0margs\u001b[0m\u001b[1;33m,\u001b[0m \u001b[1;33m**\u001b[0m\u001b[0mkwargs\u001b[0m\u001b[1;33m\u001b[0m\u001b[1;33m\u001b[0m\u001b[0m\n\u001b[0;32m    746\u001b[0m         )  # Calls into the C++ engine to run the backward pass\n",
      "\u001b[1;31mKeyboardInterrupt\u001b[0m: "
     ]
    }
   ],
   "source": [
    "for dname in get_periodic_bc_1d_data():\n",
    "    dconfig, wconfig = configure_model_and_data(dname, \"weldconv_periodic\")\n",
    "    batch_trainer(dconfig, wconfig)\n",
    "    batch_tester(dconfig, wconfig)"
   ]
  },
  {
   "cell_type": "code",
   "execution_count": null,
   "id": "aa1e6403",
   "metadata": {},
   "outputs": [],
   "source": [
    "for dname in get_zero_bc_1d_data():\n",
    "    dconfig, wconfig = configure_model_and_data(dname, \"weldconv\")\n",
    "    batch_trainer(dconfig, wconfig)\n",
    "    batch_tester(dconfig, wconfig)"
   ]
  },
  {
   "cell_type": "code",
   "execution_count": null,
   "id": "36096005",
   "metadata": {},
   "outputs": [],
   "source": [
    "dconfig, wconfig = configure_model_and_data(\"b2width\", \"weldconv2d\")\n",
    "batch_trainer(dconfig, wconfig)\n",
    "batch_tester(dconfig, wconfig)"
   ]
  },
  {
   "cell_type": "code",
   "execution_count": null,
   "id": "573cb33d",
   "metadata": {},
   "outputs": [],
   "source": [
    "dconfig, wconfig = configure_model_and_data(\"t2scale\", \"weldconv2d_deeper\")\n",
    "batch_trainer(dconfig, wconfig)\n",
    "batch_tester(dconfig, wconfig)"
   ]
  },
  {
   "cell_type": "code",
   "execution_count": null,
   "id": "c273e15a",
   "metadata": {},
   "outputs": [],
   "source": []
  }
 ],
 "metadata": {
  "kernelspec": {
   "display_name": "Python 3 (ipykernel)",
   "language": "python",
   "name": "python3"
  },
  "language_info": {
   "codemirror_mode": {
    "name": "ipython",
    "version": 3
   },
   "file_extension": ".py",
   "mimetype": "text/x-python",
   "name": "python",
   "nbconvert_exporter": "python",
   "pygments_lexer": "ipython3",
   "version": "3.8.12"
  }
 },
 "nbformat": 4,
 "nbformat_minor": 5
}
